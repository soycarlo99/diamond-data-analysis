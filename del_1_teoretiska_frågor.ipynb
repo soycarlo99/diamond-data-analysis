{
 "cells": [
  {
   "cell_type": "markdown",
   "id": "a84ab3c6-3524-4a84-b6cb-630d1a0e7a22",
   "metadata": {},
   "source": [
    "### Vad är skillnaden på en tuple och list i Python? Är den ena datatypen bättre än den andra?"
   ]
  },
  {
   "cell_type": "markdown",
   "id": "c5a1f05d-c51f-4561-be42-9bf873954820",
   "metadata": {},
   "source": [
    "A tuple is mutable and a list is immutable. mutable means that it can **not** be changed after the creation and immutable means that you **can** be changed after the creation. "
   ]
  },
  {
   "cell_type": "markdown",
   "id": "31e72ca4-c8b2-4b06-af77-d27573968a67",
   "metadata": {},
   "source": [
    "### Vad är en funktion för något? Varför kan funktioner vara användbara?"
   ]
  },
  {
   "cell_type": "markdown",
   "id": "c82504ec-96db-45f7-a274-f0a56195cc7d",
   "metadata": {},
   "source": [
    "A function is a reuseable block of code that can take inputs and perform proccess with the data, or even create data and return the result.\n",
    "\n",
    "\n",
    "Below there is an example of a function and how to call them:"
   ]
  },
  {
   "cell_type": "code",
   "execution_count": 7,
   "id": "7fcc9af2-303b-42c2-8c41-43b5e8977989",
   "metadata": {},
   "outputs": [
    {
     "data": {
      "text/plain": [
       "10"
      ]
     },
     "execution_count": 7,
     "metadata": {},
     "output_type": "execute_result"
    }
   ],
   "source": [
    "def add(a,b):\n",
    "    return a + b\n",
    "\n",
    "add(5,5)"
   ]
  },
  {
   "cell_type": "markdown",
   "id": "e4efe615-18b0-493a-894f-bdbe26706282",
   "metadata": {},
   "source": [
    "### Förklara vad nedanstående begrepp, kopplat till klasser, betyder:"
   ]
  },
  {
   "cell_type": "markdown",
   "id": "7c79ba7d-b976-40a5-ae4c-15ad0781b946",
   "metadata": {},
   "source": [
    "a) Instance\n",
    "\n",
    "An instance is a object created from a class blueprint. When you call a class (like my_dog = Dog()), you create a unique instance with its own memory space and state."
   ]
  },
  {
   "cell_type": "markdown",
   "id": "f21826c7-2eae-4557-bd7a-99d36f70c229",
   "metadata": {},
   "source": [
    "b) Attributes\n",
    "\n",
    "Attributes are variables that store data within a class or its instances. They represent the object's properties or state. Instance attributes belong to specific objects (defined with self.name), while class attributes are shared among all instances."
   ]
  },
  {
   "attachments": {},
   "cell_type": "markdown",
   "id": "c0ac0f1f-43bb-44bb-984c-42730d499f70",
   "metadata": {},
   "source": [
    "c) Method\n",
    "\n",
    "Methods are functions defined within a class that determine what actions instances can perform. They typically operate on the instance's data and often include self as the first parameter to reference the instance they're called on."
   ]
  },
  {
   "cell_type": "markdown",
   "id": "3b598d50-4a1b-4ac1-9869-e2c3698412b0",
   "metadata": {},
   "source": [
    "### Vad är Streamlit för något?"
   ]
  },
  {
   "cell_type": "markdown",
   "id": "15792ab7-df08-4440-ab22-99f166542dce",
   "metadata": {},
   "source": [
    "Streamlit is an open-source Python library that lets developers quickly build interactive web applications for data science and machine learning projects. It converts Python scripts into web apps with minimal code, handling all the frontend complexities automatically. Data scientists can create dashboards, visualizations, and interactive tools without needing to know HTML, CSS, or JavaScript."
   ]
  },
  {
   "cell_type": "markdown",
   "id": "317c1cea-d5d7-4929-98b7-2a903c56c4d8",
   "metadata": {},
   "source": [
    "### I Python ska du nu:\n",
    "- a) Skapa en klass som heter BankAccount. Klassen skall ha attributet \"account_holder\"\n",
    "som visar kontoinnehavarens namn samt attributet \"balance\" som visar\n",
    "kontoinnehavarens balans. Klassen skall ha metoden \"deposit()\" för att kunna sätta in\n",
    "pengar på kontot samt metoden \"withdraw()\" för att kunna ta ut pengar från kontot. Om\n",
    "bankinnehavaren försöker ta ut mer pengar än vad som finns på kontot skall\n",
    "meddelandet \"Too low balance\" printas ut.\n",
    "- b) Skapa en instans av klassen och testa så klassen funkar så som du förväntar dig. Du\n",
    "kan till exempel prova printa ut attributen, sätta in pengar och ta ut pengar."
   ]
  },
  {
   "cell_type": "code",
   "execution_count": 2,
   "id": "a9073f03-31e1-45f4-a58f-1902b58c9de6",
   "metadata": {},
   "outputs": [
    {
     "name": "stdout",
     "output_type": "stream",
     "text": [
      "Initial balance: 100\n",
      "Balance after deposit: 150\n",
      "Balance after successful withdrawal: 75\n",
      "Too low balance. mvh, Swedbank\n",
      "Account holder: Carlo\n",
      "Bank name: Swedbank\n"
     ]
    }
   ],
   "source": [
    "class BankAccount:\n",
    "    \"\"\"A class representing a Swedbank account.\"\"\"\n",
    "    \n",
    "    bank_name = \"Swedbank\"\n",
    "    \n",
    "    def __init__(self, balance, account_holder):\n",
    "        \"\"\"Initialize a new bank account with initial balance and account holder name.\"\"\"\n",
    "        self.balance = balance\n",
    "        self.account_holder = account_holder\n",
    "    \n",
    "    def deposit(self, amount):\n",
    "        \"\"\"Deposit money into the account.\"\"\"\n",
    "        self.balance += amount\n",
    "    \n",
    "    def withdraw(self, amount):\n",
    "        \"\"\"Withdraw money from the account if sufficient balance exists.\"\"\"\n",
    "        if amount > self.balance:\n",
    "            print(f\"Too low balance. mvh, {self.bank_name}\")\n",
    "        else:\n",
    "            self.balance -= amount\n",
    "\n",
    "\n",
    "# Create an instance with Carlo as the account holder\n",
    "carlo = BankAccount(100, \"Carlo\")\n",
    "\n",
    "# Test deposit method\n",
    "print(f\"Initial balance: {carlo.balance}\")  # Should print 100\n",
    "carlo.deposit(50)\n",
    "print(f\"Balance after deposit: {carlo.balance}\")  # Should print 150\n",
    "\n",
    "# Test withdraw method (successful)\n",
    "carlo.withdraw(75)\n",
    "print(f\"Balance after successful withdrawal: {carlo.balance}\")\n",
    "\n",
    "# Test withdraw method (unsuccessful)\n",
    "carlo.withdraw(100)  # Should print error message\n",
    "\n",
    "# Print attributes\n",
    "print(f\"Account holder: {carlo.account_holder}\")\n",
    "print(f\"Bank name: {carlo.bank_name}\")"
   ]
  },
  {
   "cell_type": "markdown",
   "id": "a94b7ae3-d742-4261-ac0e-d26a701edeaf",
   "metadata": {},
   "source": [
    "### På intervjuer brukar ibland kodtest genomföras. Här är ett exempel på en fråga som hade kunnat dyka upp på ett kodtest. Skapa en Python funktion som beräknar antalet vokaler i en sträng. Vokalerna är: A, E, I, O, U, Y, Å, Ä och Ö.\n",
    "\n",
    "### Exempelvis: vowel_checker(’hjärna’) ska returnera ”2” eftersom ordet ”hjärna” har de två vokalerna ”ä” och ”a”."
   ]
  },
  {
   "cell_type": "code",
   "execution_count": 4,
   "id": "4ef88407-18a0-4395-8b4a-cfe4e7ee7399",
   "metadata": {},
   "outputs": [
    {
     "name": "stdout",
     "output_type": "stream",
     "text": [
      "1\n",
      "16\n",
      "3\n",
      "Error: Input must be a string.\n",
      "Error: Input must be a string.\n"
     ]
    }
   ],
   "source": [
    "def vocal_checker(word):\n",
    "    \"\"\"Count the number of vowels in a given word.\n",
    "    \n",
    "    Args:\n",
    "        word (str): The word to check for vowels.\n",
    "    \n",
    "        Prints the vowel count or an error message.\n",
    "    \"\"\"\n",
    "    # Check if the input is a string\n",
    "    if not isinstance(word, str):\n",
    "        print(\"Error: Input must be a string.\")\n",
    "        return\n",
    "    \n",
    "    count = 0\n",
    "    vowels = \"aeouiyåäö\"\n",
    "    \n",
    "    for char in word:\n",
    "        if char.lower() in vowels:\n",
    "            count += 1\n",
    "            \n",
    "    print(count)\n",
    "\n",
    "\n",
    "# Test cases\n",
    "vocal_checker(\"list\")\n",
    "vocal_checker(\"hjärnaaaaaaaaAAAAAAA\")\n",
    "vocal_checker(\"bilarna\")\n",
    "vocal_checker(123)\n",
    "vocal_checker([\"h\", \"e\", \"j\"])"
   ]
  },
  {
   "cell_type": "markdown",
   "id": "512ccb2f-7a83-45c6-8e77-40d69f6fe297",
   "metadata": {},
   "source": [
    "### På intervjuer brukar ibland kodtest genomföras. Här är ett exempel på en fråga som hade kunnat dyka upp på ett kodtest. Skapa en funktion som tar två listor som argument och returnerar de gemensamma elementen i listorna i en ny lista. Exempelvis: common_elements([4, ’apple’, 10, ’hi’, 3], ([23 ’apple’, 5, 9, 3]) ska returnera svaret [’apple’, 3]."
   ]
  },
  {
   "cell_type": "markdown",
   "id": "1dd996c2-135b-470c-b015-d711fac44a39",
   "metadata": {},
   "source": [
    "# answer using intersections "
   ]
  },
  {
   "cell_type": "code",
   "execution_count": 30,
   "id": "716839b2-2565-4d06-b440-73e4d2976a61",
   "metadata": {},
   "outputs": [
    {
     "name": "stdout",
     "output_type": "stream",
     "text": [
      "[3, 'apple']\n"
     ]
    }
   ],
   "source": [
    "def unique_finder_set_intersection(list1, list2):\n",
    "    \"\"\"Find common elements between two lists using set intersection.\"\"\"\n",
    "    return list(set(list1) & set(list2))\n",
    "\n",
    "result = unique_finder_set_intersection([4, \"apple\", 10, \"hi\", 3], [23, \"apple\", 5, 9, 3])\n",
    "print(result)"
   ]
  },
  {
   "cell_type": "markdown",
   "id": "b74398dd-0c80-4d30-bffe-600541451d85",
   "metadata": {},
   "source": [
    "# answer using for loops "
   ]
  },
  {
   "cell_type": "code",
   "execution_count": 48,
   "id": "63d5525a-520f-4eab-9436-13d90ae3172f",
   "metadata": {},
   "outputs": [
    {
     "name": "stdout",
     "output_type": "stream",
     "text": [
      "['apple', 3]\n"
     ]
    }
   ],
   "source": [
    "def unique_finder_with_for_loops(list1, list2):\n",
    "    \"\"\"Find common elements between two lists using for loops.\"\"\"\n",
    "    common_elements = []\n",
    "    \n",
    "    for item in list1:\n",
    "        if item in list2:\n",
    "            common_elements.append(item)\n",
    "            \n",
    "    return common_elements\n",
    "\n",
    "result = unique_finder_with_for_loops([4, \"apple\", 10, \"hi\", 3], [23, \"apple\", 5, 9, 3])\n",
    "print(result)"
   ]
  },
  {
   "cell_type": "markdown",
   "id": "199b7598-8407-493c-bc83-38046433e46a",
   "metadata": {},
   "source": [
    "### Många barn tror att de blev till genom att en stork kom och lämnade dem till deras föräldrar. För att undersöka det kan vi kolla på data och det finns en graf enligt figuren nedan. Det verkar alltså finnas ett samband mellan antalet storkar och barnafödsel!? Stämmer påståendet? Använd begreppet ”kausalitet” i ditt svar."
   ]
  },
  {
   "cell_type": "markdown",
   "id": "b2f4cec0-b7f7-45a0-ba54-bb750a6f7b4d",
   "metadata": {},
   "source": [
    "No, the graph doesn't prove storks deliver babies haha. It shows correlation but not causality (one thing causing another).Just because two things happen together doesn't mean one causes the other.\n",
    "\n",
    "The graph shows stork populations and birth rates increasing together, but this could be due to other factors affecting both, like maybe rural areas have more storks and higher birth rates, or both are related to the size of different regions. so assuming causality just because we see correlation in data is not always the best practice."
   ]
  },
  {
   "cell_type": "markdown",
   "id": "4bdc837a-c0ec-482f-be9c-85bf9ec2e806",
   "metadata": {},
   "source": [
    "### Kim påstår att ”medelvärdet” är ett bättre mått än ”medianvärdet”. Håller du med Kim?"
   ]
  },
  {
   "cell_type": "markdown",
   "id": "d42054f7-c508-4933-9963-c80b81d6bfc6",
   "metadata": {},
   "source": [
    "No, I don't agree with Kim.\n",
    "\n",
    "The median shows the middle value and isn't affected by extreme values, on the other hand the mean includes all values but can be heavily influenced by the lowest and highest values.\n",
    "\n",
    "The best measure depends on your data and what you're trying to show. For income distribution, median is often more representative, while for test averages where all scores matter, mean might be preferred."
   ]
  },
  {
   "cell_type": "markdown",
   "id": "80bea19c-ee42-42cb-bb2b-e78f30dba1a8",
   "metadata": {},
   "source": [
    "### Vad används cirkeldiagram för? Ge ett exempel på vad ett företag som Spotify (eller något annat företag som du själv väljer) hade kunnat använda cirkeldiagram för."
   ]
  },
  {
   "cell_type": "markdown",
   "id": "dee8b24e-a858-4f6e-b432-b38104240806",
   "metadata": {},
   "source": [
    "Pie charts are used to show how different parts contribute to a whole, it is very good for comparing proportions. They work best with 2+ categories.\n",
    "\n",
    "Example for Spotify:\n",
    "- Distribution of music genres consumed by listeners  \n",
    "- Listening time across content types (music, podcasts, audiobooks)\n",
    "- Usage across different devices"
   ]
  },
  {
   "cell_type": "markdown",
   "id": "cf83887d-2cb9-4a89-a604-ba06bfc76419",
   "metadata": {},
   "source": [
    "###  Vad används linjediagram för? Ge ett exempel på vad ett företag som Spotify (eller något annat företag som du själv väljer) hade kunnat använda linjediagram för."
   ]
  },
  {
   "cell_type": "markdown",
   "id": "a5875ab3-e4ae-4cfd-938e-070b411bf011",
   "metadata": {},
   "source": [
    "Line charts are used to show changes over time or continuous data, helping to identify trends, patterns, and fluctuations.\n",
    "\n",
    "Example for Spotify:\n",
    "- Monthly active user growth over several years\n",
    "- Daily listener engagement hours throughout the week\n",
    "- Comparison of podcast vs. music listening time over months\n",
    "\n",
    "Line charts would help Spotify identify seasonal patterns, measure growth rates."
   ]
  },
  {
   "cell_type": "markdown",
   "id": "b544530f-6610-462f-929b-c717779f111d",
   "metadata": {},
   "source": [
    "### Vad används lådagram för?"
   ]
  },
  {
   "cell_type": "markdown",
   "id": "9bbcc115-0af6-4d0f-a8c3-834e23c1c708",
   "metadata": {},
   "source": [
    "Box plots are used to visualize the distribution of numerical data and highlight different properties. They show:\n",
    "\n",
    "- The median (middle value)\n",
    "- Quartiles (showing the spread of the middle 50% of data)\n",
    "- Range of typical values (whiskers)\n",
    "- Outliers (unusual values)\n",
    "\n",
    "Box plots are particularly useful for:\n",
    "- Comparing distributions across different groups or categories\n",
    "- Spotting outliers\n",
    "- Showing data spread and central tendency in a compact format\n",
    "\n",
    "They're valuable when analyzing large datasets where you need to understand the overall distribution."
   ]
  }
 ],
 "metadata": {
  "kernelspec": {
   "display_name": "Python 3 (ipykernel)",
   "language": "python",
   "name": "python3"
  },
  "language_info": {
   "codemirror_mode": {
    "name": "ipython",
    "version": 3
   },
   "file_extension": ".py",
   "mimetype": "text/x-python",
   "name": "python",
   "nbconvert_exporter": "python",
   "pygments_lexer": "ipython3",
   "version": "3.12.9"
  }
 },
 "nbformat": 4,
 "nbformat_minor": 5
}
